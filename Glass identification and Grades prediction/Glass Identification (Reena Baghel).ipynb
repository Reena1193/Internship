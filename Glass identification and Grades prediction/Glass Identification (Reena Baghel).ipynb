{
 "cells": [
  {
   "cell_type": "code",
   "execution_count": 244,
   "id": "8658c8f7",
   "metadata": {},
   "outputs": [],
   "source": [
    "import numpy as np\n",
    "import pandas as pd\n",
    "import seaborn as sns\n",
    "import matplotlib.pyplot as plt\n",
    "from sklearn.model_selection import train_test_split\n",
    "from sklearn.preprocessing import StandardScaler\n",
    "from sklearn.tree import DecisionTreeClassifier\n",
    "from sklearn.model_selection import GridSearchCV\n",
    "from sklearn.metrics import accuracy_score,classification_report\n",
    "from sklearn.ensemble import RandomForestClassifier\n",
    "from xgboost import XGBRFClassifier\n",
    "import warnings\n",
    "warnings.filterwarnings('ignore')"
   ]
  },
  {
   "cell_type": "code",
   "execution_count": 245,
   "id": "2e9f3147",
   "metadata": {},
   "outputs": [],
   "source": [
    "data=pd.read_csv('Glass Identification.csv')"
   ]
  },
  {
   "cell_type": "code",
   "execution_count": 246,
   "id": "38f170f4",
   "metadata": {},
   "outputs": [
    {
     "data": {
      "text/html": [
       "<div>\n",
       "<style scoped>\n",
       "    .dataframe tbody tr th:only-of-type {\n",
       "        vertical-align: middle;\n",
       "    }\n",
       "\n",
       "    .dataframe tbody tr th {\n",
       "        vertical-align: top;\n",
       "    }\n",
       "\n",
       "    .dataframe thead th {\n",
       "        text-align: right;\n",
       "    }\n",
       "</style>\n",
       "<table border=\"1\" class=\"dataframe\">\n",
       "  <thead>\n",
       "    <tr style=\"text-align: right;\">\n",
       "      <th></th>\n",
       "      <th>1</th>\n",
       "      <th>1.52101</th>\n",
       "      <th>13.64</th>\n",
       "      <th>4.49</th>\n",
       "      <th>1.10</th>\n",
       "      <th>71.78</th>\n",
       "      <th>0.06</th>\n",
       "      <th>8.75</th>\n",
       "      <th>0.00</th>\n",
       "      <th>0.00.1</th>\n",
       "      <th>1.1</th>\n",
       "    </tr>\n",
       "  </thead>\n",
       "  <tbody>\n",
       "    <tr>\n",
       "      <th>0</th>\n",
       "      <td>2</td>\n",
       "      <td>1.51761</td>\n",
       "      <td>13.89</td>\n",
       "      <td>3.60</td>\n",
       "      <td>1.36</td>\n",
       "      <td>72.73</td>\n",
       "      <td>0.48</td>\n",
       "      <td>7.83</td>\n",
       "      <td>0.00</td>\n",
       "      <td>0.00</td>\n",
       "      <td>1</td>\n",
       "    </tr>\n",
       "    <tr>\n",
       "      <th>1</th>\n",
       "      <td>3</td>\n",
       "      <td>1.51618</td>\n",
       "      <td>13.53</td>\n",
       "      <td>3.55</td>\n",
       "      <td>1.54</td>\n",
       "      <td>72.99</td>\n",
       "      <td>0.39</td>\n",
       "      <td>7.78</td>\n",
       "      <td>0.00</td>\n",
       "      <td>0.00</td>\n",
       "      <td>1</td>\n",
       "    </tr>\n",
       "    <tr>\n",
       "      <th>2</th>\n",
       "      <td>4</td>\n",
       "      <td>1.51766</td>\n",
       "      <td>13.21</td>\n",
       "      <td>3.69</td>\n",
       "      <td>1.29</td>\n",
       "      <td>72.61</td>\n",
       "      <td>0.57</td>\n",
       "      <td>8.22</td>\n",
       "      <td>0.00</td>\n",
       "      <td>0.00</td>\n",
       "      <td>1</td>\n",
       "    </tr>\n",
       "    <tr>\n",
       "      <th>3</th>\n",
       "      <td>5</td>\n",
       "      <td>1.51742</td>\n",
       "      <td>13.27</td>\n",
       "      <td>3.62</td>\n",
       "      <td>1.24</td>\n",
       "      <td>73.08</td>\n",
       "      <td>0.55</td>\n",
       "      <td>8.07</td>\n",
       "      <td>0.00</td>\n",
       "      <td>0.00</td>\n",
       "      <td>1</td>\n",
       "    </tr>\n",
       "    <tr>\n",
       "      <th>4</th>\n",
       "      <td>6</td>\n",
       "      <td>1.51596</td>\n",
       "      <td>12.79</td>\n",
       "      <td>3.61</td>\n",
       "      <td>1.62</td>\n",
       "      <td>72.97</td>\n",
       "      <td>0.64</td>\n",
       "      <td>8.07</td>\n",
       "      <td>0.00</td>\n",
       "      <td>0.26</td>\n",
       "      <td>1</td>\n",
       "    </tr>\n",
       "    <tr>\n",
       "      <th>...</th>\n",
       "      <td>...</td>\n",
       "      <td>...</td>\n",
       "      <td>...</td>\n",
       "      <td>...</td>\n",
       "      <td>...</td>\n",
       "      <td>...</td>\n",
       "      <td>...</td>\n",
       "      <td>...</td>\n",
       "      <td>...</td>\n",
       "      <td>...</td>\n",
       "      <td>...</td>\n",
       "    </tr>\n",
       "    <tr>\n",
       "      <th>208</th>\n",
       "      <td>210</td>\n",
       "      <td>1.51623</td>\n",
       "      <td>14.14</td>\n",
       "      <td>0.00</td>\n",
       "      <td>2.88</td>\n",
       "      <td>72.61</td>\n",
       "      <td>0.08</td>\n",
       "      <td>9.18</td>\n",
       "      <td>1.06</td>\n",
       "      <td>0.00</td>\n",
       "      <td>7</td>\n",
       "    </tr>\n",
       "    <tr>\n",
       "      <th>209</th>\n",
       "      <td>211</td>\n",
       "      <td>1.51685</td>\n",
       "      <td>14.92</td>\n",
       "      <td>0.00</td>\n",
       "      <td>1.99</td>\n",
       "      <td>73.06</td>\n",
       "      <td>0.00</td>\n",
       "      <td>8.40</td>\n",
       "      <td>1.59</td>\n",
       "      <td>0.00</td>\n",
       "      <td>7</td>\n",
       "    </tr>\n",
       "    <tr>\n",
       "      <th>210</th>\n",
       "      <td>212</td>\n",
       "      <td>1.52065</td>\n",
       "      <td>14.36</td>\n",
       "      <td>0.00</td>\n",
       "      <td>2.02</td>\n",
       "      <td>73.42</td>\n",
       "      <td>0.00</td>\n",
       "      <td>8.44</td>\n",
       "      <td>1.64</td>\n",
       "      <td>0.00</td>\n",
       "      <td>7</td>\n",
       "    </tr>\n",
       "    <tr>\n",
       "      <th>211</th>\n",
       "      <td>213</td>\n",
       "      <td>1.51651</td>\n",
       "      <td>14.38</td>\n",
       "      <td>0.00</td>\n",
       "      <td>1.94</td>\n",
       "      <td>73.61</td>\n",
       "      <td>0.00</td>\n",
       "      <td>8.48</td>\n",
       "      <td>1.57</td>\n",
       "      <td>0.00</td>\n",
       "      <td>7</td>\n",
       "    </tr>\n",
       "    <tr>\n",
       "      <th>212</th>\n",
       "      <td>214</td>\n",
       "      <td>1.51711</td>\n",
       "      <td>14.23</td>\n",
       "      <td>0.00</td>\n",
       "      <td>2.08</td>\n",
       "      <td>73.36</td>\n",
       "      <td>0.00</td>\n",
       "      <td>8.62</td>\n",
       "      <td>1.67</td>\n",
       "      <td>0.00</td>\n",
       "      <td>7</td>\n",
       "    </tr>\n",
       "  </tbody>\n",
       "</table>\n",
       "<p>213 rows × 11 columns</p>\n",
       "</div>"
      ],
      "text/plain": [
       "       1  1.52101  13.64  4.49  1.10  71.78  0.06  8.75  0.00  0.00.1  1.1\n",
       "0      2  1.51761  13.89  3.60  1.36  72.73  0.48  7.83  0.00    0.00    1\n",
       "1      3  1.51618  13.53  3.55  1.54  72.99  0.39  7.78  0.00    0.00    1\n",
       "2      4  1.51766  13.21  3.69  1.29  72.61  0.57  8.22  0.00    0.00    1\n",
       "3      5  1.51742  13.27  3.62  1.24  73.08  0.55  8.07  0.00    0.00    1\n",
       "4      6  1.51596  12.79  3.61  1.62  72.97  0.64  8.07  0.00    0.26    1\n",
       "..   ...      ...    ...   ...   ...    ...   ...   ...   ...     ...  ...\n",
       "208  210  1.51623  14.14  0.00  2.88  72.61  0.08  9.18  1.06    0.00    7\n",
       "209  211  1.51685  14.92  0.00  1.99  73.06  0.00  8.40  1.59    0.00    7\n",
       "210  212  1.52065  14.36  0.00  2.02  73.42  0.00  8.44  1.64    0.00    7\n",
       "211  213  1.51651  14.38  0.00  1.94  73.61  0.00  8.48  1.57    0.00    7\n",
       "212  214  1.51711  14.23  0.00  2.08  73.36  0.00  8.62  1.67    0.00    7\n",
       "\n",
       "[213 rows x 11 columns]"
      ]
     },
     "execution_count": 246,
     "metadata": {},
     "output_type": "execute_result"
    }
   ],
   "source": [
    "data"
   ]
  },
  {
   "cell_type": "code",
   "execution_count": 247,
   "id": "f75967d7",
   "metadata": {},
   "outputs": [],
   "source": [
    "columns = [\n",
    "    \"Id number\", \"RI\", \"Na\", \"Mg\", \"Al\", \"Si\", \n",
    "    \"K\", \"Ca\", \"Ba\", \"Fe\", \"Type of glass\"\n",
    "]"
   ]
  },
  {
   "cell_type": "code",
   "execution_count": 248,
   "id": "2a063312",
   "metadata": {},
   "outputs": [],
   "source": [
    "row_1=data.columns\n",
    "data.columns=columns"
   ]
  },
  {
   "cell_type": "code",
   "execution_count": 249,
   "id": "e8fbfa68",
   "metadata": {},
   "outputs": [],
   "source": [
    "data = pd.DataFrame([row_1], columns=data.columns).append(data, ignore_index=True)\n"
   ]
  },
  {
   "cell_type": "code",
   "execution_count": 250,
   "id": "c1d304c6",
   "metadata": {},
   "outputs": [],
   "source": [
    "data.loc[0,'Type of glass']=1"
   ]
  },
  {
   "cell_type": "code",
   "execution_count": 251,
   "id": "9a141248",
   "metadata": {},
   "outputs": [],
   "source": [
    "data.loc[0,'Fe']=0.1"
   ]
  },
  {
   "cell_type": "code",
   "execution_count": 252,
   "id": "ff1ae300",
   "metadata": {},
   "outputs": [
    {
     "data": {
      "text/html": [
       "<div>\n",
       "<style scoped>\n",
       "    .dataframe tbody tr th:only-of-type {\n",
       "        vertical-align: middle;\n",
       "    }\n",
       "\n",
       "    .dataframe tbody tr th {\n",
       "        vertical-align: top;\n",
       "    }\n",
       "\n",
       "    .dataframe thead th {\n",
       "        text-align: right;\n",
       "    }\n",
       "</style>\n",
       "<table border=\"1\" class=\"dataframe\">\n",
       "  <thead>\n",
       "    <tr style=\"text-align: right;\">\n",
       "      <th></th>\n",
       "      <th>Id number</th>\n",
       "      <th>RI</th>\n",
       "      <th>Na</th>\n",
       "      <th>Mg</th>\n",
       "      <th>Al</th>\n",
       "      <th>Si</th>\n",
       "      <th>K</th>\n",
       "      <th>Ca</th>\n",
       "      <th>Ba</th>\n",
       "      <th>Fe</th>\n",
       "      <th>Type of glass</th>\n",
       "    </tr>\n",
       "  </thead>\n",
       "  <tbody>\n",
       "    <tr>\n",
       "      <th>0</th>\n",
       "      <td>1</td>\n",
       "      <td>1.52101</td>\n",
       "      <td>13.64</td>\n",
       "      <td>4.49</td>\n",
       "      <td>1.10</td>\n",
       "      <td>71.78</td>\n",
       "      <td>0.06</td>\n",
       "      <td>8.75</td>\n",
       "      <td>0.00</td>\n",
       "      <td>0.1</td>\n",
       "      <td>1</td>\n",
       "    </tr>\n",
       "    <tr>\n",
       "      <th>1</th>\n",
       "      <td>2</td>\n",
       "      <td>1.51761</td>\n",
       "      <td>13.89</td>\n",
       "      <td>3.6</td>\n",
       "      <td>1.36</td>\n",
       "      <td>72.73</td>\n",
       "      <td>0.48</td>\n",
       "      <td>7.83</td>\n",
       "      <td>0.0</td>\n",
       "      <td>0.0</td>\n",
       "      <td>1</td>\n",
       "    </tr>\n",
       "    <tr>\n",
       "      <th>2</th>\n",
       "      <td>3</td>\n",
       "      <td>1.51618</td>\n",
       "      <td>13.53</td>\n",
       "      <td>3.55</td>\n",
       "      <td>1.54</td>\n",
       "      <td>72.99</td>\n",
       "      <td>0.39</td>\n",
       "      <td>7.78</td>\n",
       "      <td>0.0</td>\n",
       "      <td>0.0</td>\n",
       "      <td>1</td>\n",
       "    </tr>\n",
       "    <tr>\n",
       "      <th>3</th>\n",
       "      <td>4</td>\n",
       "      <td>1.51766</td>\n",
       "      <td>13.21</td>\n",
       "      <td>3.69</td>\n",
       "      <td>1.29</td>\n",
       "      <td>72.61</td>\n",
       "      <td>0.57</td>\n",
       "      <td>8.22</td>\n",
       "      <td>0.0</td>\n",
       "      <td>0.0</td>\n",
       "      <td>1</td>\n",
       "    </tr>\n",
       "    <tr>\n",
       "      <th>4</th>\n",
       "      <td>5</td>\n",
       "      <td>1.51742</td>\n",
       "      <td>13.27</td>\n",
       "      <td>3.62</td>\n",
       "      <td>1.24</td>\n",
       "      <td>73.08</td>\n",
       "      <td>0.55</td>\n",
       "      <td>8.07</td>\n",
       "      <td>0.0</td>\n",
       "      <td>0.0</td>\n",
       "      <td>1</td>\n",
       "    </tr>\n",
       "  </tbody>\n",
       "</table>\n",
       "</div>"
      ],
      "text/plain": [
       "  Id number       RI     Na    Mg    Al     Si     K    Ca    Ba   Fe  \\\n",
       "0         1  1.52101  13.64  4.49  1.10  71.78  0.06  8.75  0.00  0.1   \n",
       "1         2  1.51761  13.89   3.6  1.36  72.73  0.48  7.83   0.0  0.0   \n",
       "2         3  1.51618  13.53  3.55  1.54  72.99  0.39  7.78   0.0  0.0   \n",
       "3         4  1.51766  13.21  3.69  1.29  72.61  0.57  8.22   0.0  0.0   \n",
       "4         5  1.51742  13.27  3.62  1.24  73.08  0.55  8.07   0.0  0.0   \n",
       "\n",
       "  Type of glass  \n",
       "0             1  \n",
       "1             1  \n",
       "2             1  \n",
       "3             1  \n",
       "4             1  "
      ]
     },
     "execution_count": 252,
     "metadata": {},
     "output_type": "execute_result"
    }
   ],
   "source": [
    "data.head()"
   ]
  },
  {
   "cell_type": "code",
   "execution_count": 253,
   "id": "ebee7838",
   "metadata": {},
   "outputs": [],
   "source": [
    "data.drop(columns=['Id number'],axis=1,inplace=True)"
   ]
  },
  {
   "cell_type": "code",
   "execution_count": 254,
   "id": "daa59123",
   "metadata": {},
   "outputs": [],
   "source": [
    "data=data.drop_duplicates()"
   ]
  },
  {
   "cell_type": "code",
   "execution_count": 255,
   "id": "aebb9b9c",
   "metadata": {},
   "outputs": [
    {
     "name": "stdout",
     "output_type": "stream",
     "text": [
      "<class 'pandas.core.frame.DataFrame'>\n",
      "Int64Index: 213 entries, 0 to 213\n",
      "Data columns (total 10 columns):\n",
      " #   Column         Non-Null Count  Dtype \n",
      "---  ------         --------------  ----- \n",
      " 0   RI             213 non-null    object\n",
      " 1   Na             213 non-null    object\n",
      " 2   Mg             213 non-null    object\n",
      " 3   Al             213 non-null    object\n",
      " 4   Si             213 non-null    object\n",
      " 5   K              213 non-null    object\n",
      " 6   Ca             213 non-null    object\n",
      " 7   Ba             213 non-null    object\n",
      " 8   Fe             213 non-null    object\n",
      " 9   Type of glass  213 non-null    object\n",
      "dtypes: object(10)\n",
      "memory usage: 18.3+ KB\n"
     ]
    }
   ],
   "source": [
    "data.info()"
   ]
  },
  {
   "cell_type": "code",
   "execution_count": 256,
   "id": "2d9a1abf",
   "metadata": {},
   "outputs": [],
   "source": [
    "data = data.astype(float)\n"
   ]
  },
  {
   "cell_type": "code",
   "execution_count": 257,
   "id": "2e332f58",
   "metadata": {},
   "outputs": [
    {
     "data": {
      "text/html": [
       "<div>\n",
       "<style scoped>\n",
       "    .dataframe tbody tr th:only-of-type {\n",
       "        vertical-align: middle;\n",
       "    }\n",
       "\n",
       "    .dataframe tbody tr th {\n",
       "        vertical-align: top;\n",
       "    }\n",
       "\n",
       "    .dataframe thead th {\n",
       "        text-align: right;\n",
       "    }\n",
       "</style>\n",
       "<table border=\"1\" class=\"dataframe\">\n",
       "  <thead>\n",
       "    <tr style=\"text-align: right;\">\n",
       "      <th></th>\n",
       "      <th>RI</th>\n",
       "      <th>Na</th>\n",
       "      <th>Mg</th>\n",
       "      <th>Al</th>\n",
       "      <th>Si</th>\n",
       "      <th>K</th>\n",
       "      <th>Ca</th>\n",
       "      <th>Ba</th>\n",
       "      <th>Fe</th>\n",
       "      <th>Type of glass</th>\n",
       "    </tr>\n",
       "  </thead>\n",
       "  <tbody>\n",
       "    <tr>\n",
       "      <th>count</th>\n",
       "      <td>213.000000</td>\n",
       "      <td>213.000000</td>\n",
       "      <td>213.000000</td>\n",
       "      <td>213.000000</td>\n",
       "      <td>213.000000</td>\n",
       "      <td>213.000000</td>\n",
       "      <td>213.000000</td>\n",
       "      <td>213.000000</td>\n",
       "      <td>213.000000</td>\n",
       "      <td>213.000000</td>\n",
       "    </tr>\n",
       "    <tr>\n",
       "      <th>mean</th>\n",
       "      <td>1.518348</td>\n",
       "      <td>13.404085</td>\n",
       "      <td>2.679202</td>\n",
       "      <td>1.449484</td>\n",
       "      <td>72.655070</td>\n",
       "      <td>0.498873</td>\n",
       "      <td>8.954085</td>\n",
       "      <td>0.175869</td>\n",
       "      <td>0.057746</td>\n",
       "      <td>2.788732</td>\n",
       "    </tr>\n",
       "    <tr>\n",
       "      <th>std</th>\n",
       "      <td>0.003033</td>\n",
       "      <td>0.816662</td>\n",
       "      <td>1.443691</td>\n",
       "      <td>0.495925</td>\n",
       "      <td>0.773998</td>\n",
       "      <td>0.653185</td>\n",
       "      <td>1.425882</td>\n",
       "      <td>0.498245</td>\n",
       "      <td>0.097553</td>\n",
       "      <td>2.105130</td>\n",
       "    </tr>\n",
       "    <tr>\n",
       "      <th>min</th>\n",
       "      <td>1.511150</td>\n",
       "      <td>10.730000</td>\n",
       "      <td>0.000000</td>\n",
       "      <td>0.290000</td>\n",
       "      <td>69.810000</td>\n",
       "      <td>0.000000</td>\n",
       "      <td>5.430000</td>\n",
       "      <td>0.000000</td>\n",
       "      <td>0.000000</td>\n",
       "      <td>1.000000</td>\n",
       "    </tr>\n",
       "    <tr>\n",
       "      <th>25%</th>\n",
       "      <td>1.516520</td>\n",
       "      <td>12.900000</td>\n",
       "      <td>2.090000</td>\n",
       "      <td>1.190000</td>\n",
       "      <td>72.280000</td>\n",
       "      <td>0.130000</td>\n",
       "      <td>8.240000</td>\n",
       "      <td>0.000000</td>\n",
       "      <td>0.000000</td>\n",
       "      <td>1.000000</td>\n",
       "    </tr>\n",
       "    <tr>\n",
       "      <th>50%</th>\n",
       "      <td>1.517680</td>\n",
       "      <td>13.300000</td>\n",
       "      <td>3.480000</td>\n",
       "      <td>1.360000</td>\n",
       "      <td>72.790000</td>\n",
       "      <td>0.560000</td>\n",
       "      <td>8.600000</td>\n",
       "      <td>0.000000</td>\n",
       "      <td>0.000000</td>\n",
       "      <td>2.000000</td>\n",
       "    </tr>\n",
       "    <tr>\n",
       "      <th>75%</th>\n",
       "      <td>1.519150</td>\n",
       "      <td>13.810000</td>\n",
       "      <td>3.600000</td>\n",
       "      <td>1.630000</td>\n",
       "      <td>73.090000</td>\n",
       "      <td>0.610000</td>\n",
       "      <td>9.150000</td>\n",
       "      <td>0.000000</td>\n",
       "      <td>0.100000</td>\n",
       "      <td>3.000000</td>\n",
       "    </tr>\n",
       "    <tr>\n",
       "      <th>max</th>\n",
       "      <td>1.533930</td>\n",
       "      <td>17.380000</td>\n",
       "      <td>4.490000</td>\n",
       "      <td>3.500000</td>\n",
       "      <td>75.410000</td>\n",
       "      <td>6.210000</td>\n",
       "      <td>16.190000</td>\n",
       "      <td>3.150000</td>\n",
       "      <td>0.510000</td>\n",
       "      <td>7.000000</td>\n",
       "    </tr>\n",
       "  </tbody>\n",
       "</table>\n",
       "</div>"
      ],
      "text/plain": [
       "               RI          Na          Mg          Al          Si           K  \\\n",
       "count  213.000000  213.000000  213.000000  213.000000  213.000000  213.000000   \n",
       "mean     1.518348   13.404085    2.679202    1.449484   72.655070    0.498873   \n",
       "std      0.003033    0.816662    1.443691    0.495925    0.773998    0.653185   \n",
       "min      1.511150   10.730000    0.000000    0.290000   69.810000    0.000000   \n",
       "25%      1.516520   12.900000    2.090000    1.190000   72.280000    0.130000   \n",
       "50%      1.517680   13.300000    3.480000    1.360000   72.790000    0.560000   \n",
       "75%      1.519150   13.810000    3.600000    1.630000   73.090000    0.610000   \n",
       "max      1.533930   17.380000    4.490000    3.500000   75.410000    6.210000   \n",
       "\n",
       "               Ca          Ba          Fe  Type of glass  \n",
       "count  213.000000  213.000000  213.000000     213.000000  \n",
       "mean     8.954085    0.175869    0.057746       2.788732  \n",
       "std      1.425882    0.498245    0.097553       2.105130  \n",
       "min      5.430000    0.000000    0.000000       1.000000  \n",
       "25%      8.240000    0.000000    0.000000       1.000000  \n",
       "50%      8.600000    0.000000    0.000000       2.000000  \n",
       "75%      9.150000    0.000000    0.100000       3.000000  \n",
       "max     16.190000    3.150000    0.510000       7.000000  "
      ]
     },
     "execution_count": 257,
     "metadata": {},
     "output_type": "execute_result"
    }
   ],
   "source": [
    "data.describe()"
   ]
  },
  {
   "cell_type": "code",
   "execution_count": 258,
   "id": "6d28d847",
   "metadata": {},
   "outputs": [
    {
     "data": {
      "text/plain": [
       "RI               0\n",
       "Na               0\n",
       "Mg               0\n",
       "Al               0\n",
       "Si               0\n",
       "K                0\n",
       "Ca               0\n",
       "Ba               0\n",
       "Fe               0\n",
       "Type of glass    0\n",
       "dtype: int64"
      ]
     },
     "execution_count": 258,
     "metadata": {},
     "output_type": "execute_result"
    }
   ],
   "source": [
    "data.isna().sum()"
   ]
  },
  {
   "cell_type": "code",
   "execution_count": 259,
   "id": "dcd09f17",
   "metadata": {},
   "outputs": [
    {
     "data": {
      "image/png": "[encoded data removed]",
      "text/plain": [
       "<Figure size 1000x600 with 2 Axes>"
      ]
     },
     "metadata": {},
     "output_type": "display_data"
    }
   ],
   "source": [
    "plt.figure(figsize=(10,6))\n",
    "\n",
    "df_corr = data.corr()\n",
    "sns.heatmap(df_corr, cmap='RdBu', vmin=-1, vmax=1,annot=True)\n",
    "plt.show()"
   ]
  },
  {
   "cell_type": "code",
   "execution_count": 260,
   "id": "27ea45f2",
   "metadata": {},
   "outputs": [
    {
     "data": {
      "text/plain": [
       "0      1.0\n",
       "1      1.0\n",
       "2      1.0\n",
       "3      1.0\n",
       "4      1.0\n",
       "      ... \n",
       "209    7.0\n",
       "210    7.0\n",
       "211    7.0\n",
       "212    7.0\n",
       "213    7.0\n",
       "Name: Type of glass, Length: 213, dtype: object"
      ]
     },
     "execution_count": 260,
     "metadata": {},
     "output_type": "execute_result"
    }
   ],
   "source": [
    "data['Type of glass'].astype(object)"
   ]
  },
  {
   "cell_type": "code",
   "execution_count": 261,
   "id": "acb550d9",
   "metadata": {},
   "outputs": [],
   "source": [
    "data=data.drop(['K','Ca'],axis=1)"
   ]
  },
  {
   "cell_type": "code",
   "execution_count": 262,
   "id": "30135a1b",
   "metadata": {},
   "outputs": [],
   "source": [
    "cols=data.columns"
   ]
  },
  {
   "cell_type": "code",
   "execution_count": 263,
   "id": "9056d67a",
   "metadata": {},
   "outputs": [
    {
     "data": {
      "text/html": [
       "<div>\n",
       "<style scoped>\n",
       "    .dataframe tbody tr th:only-of-type {\n",
       "        vertical-align: middle;\n",
       "    }\n",
       "\n",
       "    .dataframe tbody tr th {\n",
       "        vertical-align: top;\n",
       "    }\n",
       "\n",
       "    .dataframe thead th {\n",
       "        text-align: right;\n",
       "    }\n",
       "</style>\n",
       "<table border=\"1\" class=\"dataframe\">\n",
       "  <thead>\n",
       "    <tr style=\"text-align: right;\">\n",
       "      <th></th>\n",
       "      <th>RI</th>\n",
       "      <th>Na</th>\n",
       "      <th>Mg</th>\n",
       "      <th>Al</th>\n",
       "      <th>Si</th>\n",
       "      <th>Ba</th>\n",
       "      <th>Fe</th>\n",
       "      <th>Type of glass</th>\n",
       "    </tr>\n",
       "  </thead>\n",
       "  <tbody>\n",
       "    <tr>\n",
       "      <th>RI</th>\n",
       "      <td>1.000000</td>\n",
       "      <td>-0.198802</td>\n",
       "      <td>-0.127526</td>\n",
       "      <td>-0.400973</td>\n",
       "      <td>-0.539000</td>\n",
       "      <td>0.001679</td>\n",
       "      <td>0.151382</td>\n",
       "      <td>-0.160140</td>\n",
       "    </tr>\n",
       "    <tr>\n",
       "      <th>Na</th>\n",
       "      <td>-0.198802</td>\n",
       "      <td>1.000000</td>\n",
       "      <td>-0.278420</td>\n",
       "      <td>0.167735</td>\n",
       "      <td>-0.064885</td>\n",
       "      <td>0.329080</td>\n",
       "      <td>-0.238066</td>\n",
       "      <td>0.508837</td>\n",
       "    </tr>\n",
       "    <tr>\n",
       "      <th>Mg</th>\n",
       "      <td>-0.127526</td>\n",
       "      <td>-0.278420</td>\n",
       "      <td>1.000000</td>\n",
       "      <td>-0.479575</td>\n",
       "      <td>-0.162437</td>\n",
       "      <td>-0.491818</td>\n",
       "      <td>0.091522</td>\n",
       "      <td>-0.744195</td>\n",
       "    </tr>\n",
       "    <tr>\n",
       "      <th>Al</th>\n",
       "      <td>-0.400973</td>\n",
       "      <td>0.167735</td>\n",
       "      <td>-0.479575</td>\n",
       "      <td>1.000000</td>\n",
       "      <td>-0.016195</td>\n",
       "      <td>0.480642</td>\n",
       "      <td>-0.084021</td>\n",
       "      <td>0.597432</td>\n",
       "    </tr>\n",
       "    <tr>\n",
       "      <th>Si</th>\n",
       "      <td>-0.539000</td>\n",
       "      <td>-0.064885</td>\n",
       "      <td>-0.162437</td>\n",
       "      <td>-0.016195</td>\n",
       "      <td>1.000000</td>\n",
       "      <td>-0.104389</td>\n",
       "      <td>-0.103220</td>\n",
       "      <td>0.147725</td>\n",
       "    </tr>\n",
       "    <tr>\n",
       "      <th>Ba</th>\n",
       "      <td>0.001679</td>\n",
       "      <td>0.329080</td>\n",
       "      <td>-0.491818</td>\n",
       "      <td>0.480642</td>\n",
       "      <td>-0.104389</td>\n",
       "      <td>1.000000</td>\n",
       "      <td>-0.061458</td>\n",
       "      <td>0.574896</td>\n",
       "    </tr>\n",
       "    <tr>\n",
       "      <th>Fe</th>\n",
       "      <td>0.151382</td>\n",
       "      <td>-0.238066</td>\n",
       "      <td>0.091522</td>\n",
       "      <td>-0.084021</td>\n",
       "      <td>-0.103220</td>\n",
       "      <td>-0.061458</td>\n",
       "      <td>1.000000</td>\n",
       "      <td>-0.195270</td>\n",
       "    </tr>\n",
       "    <tr>\n",
       "      <th>Type of glass</th>\n",
       "      <td>-0.160140</td>\n",
       "      <td>0.508837</td>\n",
       "      <td>-0.744195</td>\n",
       "      <td>0.597432</td>\n",
       "      <td>0.147725</td>\n",
       "      <td>0.574896</td>\n",
       "      <td>-0.195270</td>\n",
       "      <td>1.000000</td>\n",
       "    </tr>\n",
       "  </tbody>\n",
       "</table>\n",
       "</div>"
      ],
      "text/plain": [
       "                     RI        Na        Mg        Al        Si        Ba  \\\n",
       "RI             1.000000 -0.198802 -0.127526 -0.400973 -0.539000  0.001679   \n",
       "Na            -0.198802  1.000000 -0.278420  0.167735 -0.064885  0.329080   \n",
       "Mg            -0.127526 -0.278420  1.000000 -0.479575 -0.162437 -0.491818   \n",
       "Al            -0.400973  0.167735 -0.479575  1.000000 -0.016195  0.480642   \n",
       "Si            -0.539000 -0.064885 -0.162437 -0.016195  1.000000 -0.104389   \n",
       "Ba             0.001679  0.329080 -0.491818  0.480642 -0.104389  1.000000   \n",
       "Fe             0.151382 -0.238066  0.091522 -0.084021 -0.103220 -0.061458   \n",
       "Type of glass -0.160140  0.508837 -0.744195  0.597432  0.147725  0.574896   \n",
       "\n",
       "                     Fe  Type of glass  \n",
       "RI             0.151382      -0.160140  \n",
       "Na            -0.238066       0.508837  \n",
       "Mg             0.091522      -0.744195  \n",
       "Al            -0.084021       0.597432  \n",
       "Si            -0.103220       0.147725  \n",
       "Ba            -0.061458       0.574896  \n",
       "Fe             1.000000      -0.195270  \n",
       "Type of glass -0.195270       1.000000  "
      ]
     },
     "execution_count": 263,
     "metadata": {},
     "output_type": "execute_result"
    }
   ],
   "source": [
    "# co - relation matrix table\n",
    "corr=data.corr()\n",
    "corr"
   ]
  },
  {
   "cell_type": "code",
   "execution_count": 264,
   "id": "6094ebfb",
   "metadata": {},
   "outputs": [
    {
     "data": {
      "image/png": "[encoded data removed]",
      "text/plain": [
       "<Figure size 1000x600 with 2 Axes>"
      ]
     },
     "metadata": {},
     "output_type": "display_data"
    }
   ],
   "source": [
    "plt.figure(figsize=(10,6))\n",
    "ax = sns.heatmap(data=data.corr(method='spearman'), annot=True, fmt='.2f')\n"
   ]
  },
  {
   "cell_type": "code",
   "execution_count": 265,
   "id": "3fdc85ed",
   "metadata": {},
   "outputs": [],
   "source": [
    "X = data.drop('Type of glass', axis = 1)\n",
    "y = data['Type of glass']\n",
    "X_train, X_test, Y_train, Y_test = train_test_split(X, y, test_size = 0.2, random_state=17)"
   ]
  },
  {
   "cell_type": "code",
   "execution_count": 266,
   "id": "66e0671e",
   "metadata": {},
   "outputs": [],
   "source": [
    "from sklearn.preprocessing import MinMaxScaler\n",
    "\n",
    "column_names = X_train.columns\n",
    "\n",
    "\n",
    "scaler = MinMaxScaler()\n",
    "X_train = scaler.fit_transform(X_train)\n",
    "X_test=scaler.transform(X_test)"
   ]
  },
  {
   "cell_type": "code",
   "execution_count": 267,
   "id": "a5e4d7e2",
   "metadata": {},
   "outputs": [],
   "source": [
    "X_train = pd.DataFrame(X_train, columns=column_names)\n",
    "X_test = pd.DataFrame(X_test, columns=column_names)"
   ]
  },
  {
   "cell_type": "markdown",
   "id": "85f12fe9",
   "metadata": {},
   "source": [
    "## Taining a Model"
   ]
  },
  {
   "cell_type": "code",
   "execution_count": 268,
   "id": "d4adaf8e",
   "metadata": {},
   "outputs": [],
   "source": [
    "from sklearn.metrics import accuracy_score, precision_score, recall_score, f1_score\n",
    "\n",
    "def evaluation_fn(best_model, X_test, Y_test):\n",
    "    \n",
    "    y_pred = best_model.predict(X_test)\n",
    "    accuracy = accuracy_score(Y_test, y_pred)\n",
    "    precision = precision_score(Y_test, y_pred, average='weighted')\n",
    "    recall = recall_score(Y_test, y_pred, average='weighted')\n",
    "    f1 = f1_score(Y_test, y_pred, average='weighted')\n",
    "\n",
    "    print('Accuracy of the model is:', accuracy)\n",
    "    print('Precision of the model is:', precision)\n",
    "    print('Recall of the model is:', recall)\n",
    "    print('F1 score of the model is:', f1)\n"
   ]
  },
  {
   "cell_type": "code",
   "execution_count": 269,
   "id": "bf003c6d",
   "metadata": {},
   "outputs": [
    {
     "name": "stdout",
     "output_type": "stream",
     "text": [
      "Accuracy of the model is: 0.7674418604651163\n",
      "Precision of the model is: 0.8041278526914641\n",
      "Recall of the model is: 0.7674418604651163\n",
      "F1 score of the model is: 0.7772374911909797\n"
     ]
    }
   ],
   "source": [
    "model = DecisionTreeClassifier(random_state=42)\n",
    "\n",
    "model.fit(X_train, Y_train)\n",
    "\n",
    "evaluation_fn(model,X_test,Y_test)"
   ]
  },
  {
   "cell_type": "code",
   "execution_count": 270,
   "id": "86e0a76f",
   "metadata": {},
   "outputs": [
    {
     "name": "stdout",
     "output_type": "stream",
     "text": [
      "Accuracy of the model is: 0.813953488372093\n",
      "Precision of the model is: 0.729031882030658\n",
      "Recall of the model is: 0.813953488372093\n",
      "F1 score of the model is: 0.7666876178504086\n"
     ]
    }
   ],
   "source": [
    "model_rf = RandomForestClassifier(random_state=42)\n",
    "\n",
    "model_rf.fit(X_train, Y_train)\n",
    "\n",
    "evaluation_fn(model_rf,X_test,Y_test)"
   ]
  },
  {
   "cell_type": "code",
   "execution_count": 271,
   "id": "d82e23f9",
   "metadata": {},
   "outputs": [
    {
     "name": "stdout",
     "output_type": "stream",
     "text": [
      "[15:11:49] WARNING: C:/Users/Administrator/workspace/xgboost-win64_release_1.4.0/src/learner.cc:1095: Starting in XGBoost 1.3.0, the default evaluation metric used with the objective 'multi:softprob' was changed from 'merror' to 'mlogloss'. Explicitly set eval_metric if you'd like to restore the old behavior.\n",
      "Accuracy of the model is: 0.6976744186046512\n",
      "Precision of the model is: 0.6382059800664451\n",
      "Recall of the model is: 0.6976744186046512\n",
      "F1 score of the model is: 0.6630036630036631\n"
     ]
    }
   ],
   "source": [
    "model_xg = XGBRFClassifier(random_state=42)\n",
    "\n",
    "model_xg.fit(X_train, Y_train)\n",
    "\n",
    "evaluation_fn(model_xg,X_test,Y_test)"
   ]
  },
  {
   "cell_type": "code",
   "execution_count": 272,
   "id": "cd62ca9c",
   "metadata": {},
   "outputs": [
    {
     "name": "stdout",
     "output_type": "stream",
     "text": [
      "Random Forest Classifier:\n",
      "Accuracy of the model is: 0.813953488372093\n",
      "Precision of the model is: 0.724630021141649\n",
      "Recall of the model is: 0.813953488372093\n",
      "F1 score of the model is: 0.7653185035389282\n"
     ]
    }
   ],
   "source": [
    "# Random Forest Classifier with hyperparameter tuning\n",
    "rf_model = RandomForestClassifier(random_state=17)\n",
    "param_grid_rf = {\n",
    "    'n_estimators': [60,80,100, 120,150,200,220,250],\n",
    "    'max_depth': [6,7,8,10,12],\n",
    "}\n",
    "grid_search_rf = GridSearchCV(estimator=rf_model, param_grid=param_grid_rf, cv=5, scoring='f1')\n",
    "grid_search_rf.fit(X_train, Y_train)\n",
    "best_rf_model = grid_search_rf.best_estimator_\n",
    "print(\"Random Forest Classifier:\")\n",
    "evaluation_fn(best_rf_model, X_test, Y_test)"
   ]
  },
  {
   "cell_type": "code",
   "execution_count": 273,
   "id": "3bbf03a1",
   "metadata": {},
   "outputs": [],
   "source": [
    "params=best_rf_model.get_params()"
   ]
  },
  {
   "cell_type": "code",
   "execution_count": 274,
   "id": "95bbb2df",
   "metadata": {},
   "outputs": [
    {
     "name": "stdout",
     "output_type": "stream",
     "text": [
      "  Feature  Gini Importance\n",
      "2      Mg         0.221464\n",
      "3      Al         0.193407\n",
      "0      RI         0.183225\n",
      "1      Na         0.150241\n",
      "4      Si         0.103916\n",
      "5      Ba         0.099542\n",
      "6      Fe         0.048204\n"
     ]
    }
   ],
   "source": [
    "# Built-in feature importance (Gini Importance)\n",
    "importances = best_rf_model.feature_importances_\n",
    "feature_imp_df = pd.DataFrame({'Feature': cols[:-1], 'Gini Importance': importances}).sort_values('Gini Importance', ascending=False) \n",
    "print(feature_imp_df)"
   ]
  },
  {
   "cell_type": "code",
   "execution_count": 275,
   "id": "538122fd",
   "metadata": {},
   "outputs": [
    {
     "data": {
      "image/png": "[encoded data removed]",
      "text/plain": [
       "<Figure size 800x400 with 1 Axes>"
      ]
     },
     "metadata": {},
     "output_type": "display_data"
    }
   ],
   "source": [
    "# Create a bar plot for feature importance\n",
    "plt.figure(figsize=(8, 4))\n",
    "plt.barh(feature_imp_df['Feature'], feature_imp_df['Gini Importance'], color='skyblue')\n",
    "plt.title('Feature Importance')\n",
    "plt.gca().invert_yaxis() \n",
    "plt.show()"
   ]
  },
  {
   "cell_type": "code",
   "execution_count": 276,
   "id": "8f65f984",
   "metadata": {},
   "outputs": [
    {
     "name": "stdout",
     "output_type": "stream",
     "text": [
      "Random Forest Classifier:\n",
      "Accuracy of the model is: 0.813953488372093\n",
      "Precision of the model is: 0.724630021141649\n",
      "Recall of the model is: 0.813953488372093\n",
      "F1 score of the model is: 0.7653185035389282\n"
     ]
    }
   ],
   "source": [
    "# Random Forest Classifier with hyperparameter tuning\n",
    "rf_model = RandomForestClassifier(**params)\n",
    "\n",
    "rf_model.fit(X_train, Y_train)\n",
    "print(\"Random Forest Classifier:\")\n",
    "evaluation_fn(rf_model, X_test, Y_test)"
   ]
  },
  {
   "cell_type": "markdown",
   "id": "093bd35b",
   "metadata": {},
   "source": [
    "## finally the rf model is best for Glass Identification "
   ]
  }
 ],
 "metadata": {
  "kernelspec": {
   "display_name": "Python 3 (ipykernel)",
   "language": "python",
   "name": "python3"
  },
  "language_info": {
   "codemirror_mode": {
    "name": "ipython",
    "version": 3
   },
   "file_extension": ".py",
   "mimetype": "text/x-python",
   "name": "python",
   "nbconvert_exporter": "python",
   "pygments_lexer": "ipython3",
   "version": "3.9.7"
  }
 },
 "nbformat": 4,
 "nbformat_minor": 5
}
